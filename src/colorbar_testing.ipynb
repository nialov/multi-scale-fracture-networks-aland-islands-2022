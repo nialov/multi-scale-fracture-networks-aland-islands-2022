{
 "cells": [
  {
   "cell_type": "code",
   "execution_count": null,
   "id": "0a369cd5-a0e9-4d49-945a-0c61019be426",
   "metadata": {},
   "outputs": [],
   "source": [
    "import matplotlib.pyplot as plt\n",
    "import matplotlib as mpl"
   ]
  },
  {
   "cell_type": "code",
   "execution_count": null,
   "id": "12e74b73-9350-413c-81ac-017e81086a09",
   "metadata": {},
   "outputs": [],
   "source": [
    "fig, ax = plt.subplots(figsize=(1, 6))\n",
    "fig.subplots_adjust(bottom=0.5)\n",
    "\n",
    "cmap = mpl.cm.gray\n",
    "norm = mpl.colors.Normalize(vmin=0, vmax=255)\n",
    "\n",
    "cb1 = mpl.colorbar.ColorbarBase(\n",
    "    ax, cmap=cmap, norm=norm, orientation=\"vertical\", ticklocation=\"left\"\n",
    ")\n",
    "cb1.set_label(\"SHRP Magnetic Grayscale\")\n",
    "\n",
    "fig.show()"
   ]
  },
  {
   "cell_type": "code",
   "execution_count": null,
   "id": "e52b8b8c-bd3a-4bc0-8937-17505f28a499",
   "metadata": {},
   "outputs": [],
   "source": []
  }
 ],
 "metadata": {
  "kernelspec": {
   "display_name": "Python 3 (ipykernel)",
   "language": "python",
   "name": "python3"
  },
  "language_info": {
   "codemirror_mode": {
    "name": "ipython",
    "version": 3
   },
   "file_extension": ".py",
   "mimetype": "text/x-python",
   "name": "python",
   "nbconvert_exporter": "python",
   "pygments_lexer": "ipython3",
   "version": "3.9.9"
  }
 },
 "nbformat": 4,
 "nbformat_minor": 5
}

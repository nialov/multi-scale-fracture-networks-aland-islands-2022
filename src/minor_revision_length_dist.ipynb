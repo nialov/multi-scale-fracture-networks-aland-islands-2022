{
 "cells": [
  {
   "cell_type": "code",
   "execution_count": null,
   "id": "3be3e773-0363-4906-8d75-dbf84d1483cd",
   "metadata": {},
   "outputs": [],
   "source": [
    "from pathlib import Path\n",
    "\n",
    "from fractopo import Network\n",
    "from fractopo.general import read_geofile, JOBLIB_CACHE\n",
    "from fractopo.analysis.length_distributions import determine_fit, calculate_exponent\n",
    "import numpy as np\n",
    "import matplotlib.pyplot as plt\n",
    "import pandas as pd\n",
    "\n",
    "from multi_network_analysis import multi_network_analysis"
   ]
  },
  {
   "cell_type": "code",
   "execution_count": null,
   "id": "188046d9-bc75-498f-96d4-ed9f5f933e61",
   "metadata": {},
   "outputs": [],
   "source": [
    "trace_lengths_1_10 = pd.read_csv(\"../outputs/networks/1_10/trace_lengths.csv\")[\n",
    "    \"lengths\"\n",
    "].values\n",
    "trace_lengths_1_20k = pd.read_csv(\"../outputs/networks/1_20000/trace_lengths.csv\")[\n",
    "    \"lengths\"\n",
    "].values\n",
    "trace_lengths_1_200k = pd.read_csv(\n",
    "    \"../outputs/networks/1_200000_int/trace_lengths.csv\"\n",
    ")[\"lengths\"].values"
   ]
  },
  {
   "cell_type": "code",
   "execution_count": null,
   "id": "82c7b149-2b86-4348-98bb-3baa5be149d6",
   "metadata": {},
   "outputs": [],
   "source": [
    "@JOBLIB_CACHE.cache\n",
    "def resolve_censoring_fits(lengths, num=20):\n",
    "    censoring_cut_offs = np.linspace(\n",
    "        start=lengths.max() + 0.001, stop=lengths.min(), num=num\n",
    "    )\n",
    "    fits = []\n",
    "\n",
    "    for censoring_cut_off in censoring_cut_offs:\n",
    "        censor_cut_off_lengths = lengths[lengths < censoring_cut_off]\n",
    "        fit = determine_fit(censor_cut_off_lengths)\n",
    "        fits.append(fit)\n",
    "\n",
    "    return fits, censoring_cut_offs"
   ]
  },
  {
   "cell_type": "code",
   "execution_count": null,
   "id": "c4e3009f-763b-4b93-8014-6cde3ed4c7b5",
   "metadata": {},
   "outputs": [],
   "source": [
    "fits_1_10, zc = resolve_censoring_fits(trace_lengths_1_10)\n",
    "fits_1_20k, censoring_cut_offs_1_20k = resolve_censoring_fits(trace_lengths_1_20k)\n",
    "fits_1_200k, censoring_cut_offs_1_200k = resolve_censoring_fits(trace_lengths_1_200k)"
   ]
  },
  {
   "cell_type": "code",
   "execution_count": null,
   "id": "35eeaa42-a2ef-4b1a-8c60-f83208811c43",
   "metadata": {},
   "outputs": [],
   "source": [
    "def visualize_effect_of_censoring(censoring_cut_offs, fits, suptitle, lengths):\n",
    "\n",
    "    exponents = [calculate_exponent(fit.alpha) for fit in fits]\n",
    "    cut_offs = [fit.xmin for fit in fits]\n",
    "\n",
    "    def _resolve_mask(lengths, censoring_cut_off, cut_off):\n",
    "        lengths_below_censoring = lenghts < censoring_cut_off\n",
    "        lengths_above_cut_off = lengths > cut_off\n",
    "        return lengths_below_censoring & lengths_above_cut_off\n",
    "\n",
    "    cut_off_proportions = [\n",
    "        1 - (sum(fit.data > fit.xmin) / len(lengths)) for fit in fits\n",
    "    ]\n",
    "    fig, axes = plt.subplots(1, 3, figsize=(15, 5))\n",
    "\n",
    "    ax_1 = axes[0]\n",
    "    ax_1.scatter(x=censoring_cut_offs, y=exponents)\n",
    "    ax_1.set_title(\"Censoring cut-off vs. power-law exponent\")\n",
    "\n",
    "    ax_2 = axes[1]\n",
    "    ax_2.scatter(x=censoring_cut_offs, y=cut_offs)\n",
    "    ax_2.set_title(\"Censoring cut-off vs. truncation cut-off\")\n",
    "\n",
    "    ax_3 = axes[2]\n",
    "    ax_3.scatter(x=censoring_cut_offs, y=cut_off_proportions)\n",
    "    ax_3.set_title(\"Censoring cut-off vs. cut off proportions\")\n",
    "\n",
    "    fig.suptitle(suptitle)\n",
    "    return fig, axes"
   ]
  },
  {
   "cell_type": "code",
   "execution_count": null,
   "id": "e5f08f71-57e0-4a21-ac99-313ac983294a",
   "metadata": {},
   "outputs": [],
   "source": [
    "for fits, suptitle, censoring_cut_offs, lengths in zip(\n",
    "    [fits_1_10, fits_1_20k, fits_1_200k],\n",
    "    [\"1:10\", \"1:20k\", \"1:200k\"],\n",
    "    [censoring_cut_offs_1_10, censoring_cut_offs_1_20k, censoring_cut_offs_1_200k],\n",
    "    [trace_lengths_1_10, trace_lengths_1_20k, trace_lengths_1_200k],\n",
    "):\n",
    "    fig, axes = visualize_effect_of_censoring(\n",
    "        fits=fits,\n",
    "        suptitle=suptitle,\n",
    "        censoring_cut_offs=censoring_cut_offs,\n",
    "        lengths=lengths,\n",
    "    )"
   ]
  },
  {
   "cell_type": "code",
   "execution_count": null,
   "id": "5609f3d0-8d43-456b-9f2e-374c8a9af6b1",
   "metadata": {},
   "outputs": [],
   "source": []
  }
 ],
 "metadata": {
  "kernelspec": {
   "display_name": "Python 3 (ipykernel)",
   "language": "python",
   "name": "python3"
  },
  "language_info": {
   "codemirror_mode": {
    "name": "ipython",
    "version": 3
   },
   "file_extension": ".py",
   "mimetype": "text/x-python",
   "name": "python",
   "nbconvert_exporter": "python",
   "pygments_lexer": "ipython3",
   "version": "3.9.9"
  }
 },
 "nbformat": 4,
 "nbformat_minor": 5
}
